{
 "cells": [
  {
   "cell_type": "markdown",
   "metadata": {},
   "source": [
    "# Task Management in FreeRTOS\n",
    "\n",
    "\n",
    "### About Tasks\n",
    "\n",
    "- Each task is a small program in its own right. \n",
    "- An application can consist of many tasks. \n",
    "- If Application is running on single core processor,then only one task can be executing at any given time. This means when one task is running on the core, others are not running. Based on scheduling policy,a single core is time shared bewteen tasks. When a task from 'not-running' state transits to 'running' state, it is said to be 'Swapped-In' or 'Switched-In'. When a task from 'running' state transits to 'not-running' state it is said to be 'Swapped-Out' or 'Switched-Out'. \n",
    "- The FreeRTOS scheduler is the only entity that can switch a task in and out.\n",
    "\n",
    "### Rules\n",
    "\n",
    "- It has an entry point, will normally run forever within an infinite loop, and will not exit.\n",
    "\n",
    "- FreeRTOS tasks must not be allowed to return from their implementing function in any way— they must not contain a ‘return’ statement and must not be allowed to execute past the end of the function. If a task is no longer required, it should instead be explicitly deleted.\n",
    "    \n",
    "- A single task function definition can be used to create any number of tasks—each created task being a separate execution instance, with its own stack and its own copy of any automatic (stack) variables defined within the task itself.\n"
   ]
  },
  {
   "cell_type": "markdown",
   "metadata": {},
   "source": [
    "### Task function prototype\n",
    "```c\n",
    "//Task function prototype\n",
    "void taskFunction_threadA( void *pvParameters );\n",
    "\n",
    "```"
   ]
  },
  {
   "cell_type": "markdown",
   "metadata": {},
   "source": [
    "### Task function definition\n",
    "\n",
    "```c\n",
    "//Task function definition\n",
    "void taskFunction_threadA( void *pvParameters )\n",
    "{\n",
    "      /*task initialization done here*/\n",
    "\n",
    "      //forever loop\n",
    "      for(;;)\n",
    "      {\n",
    "          /* The code to implement the task functionality will go here. */\n",
    "      }\n",
    "  \n",
    "      /*Delete task before exit*/\n",
    "      vTaskDelete( NULL );  \n",
    "}\n",
    "```"
   ]
  },
  {
   "cell_type": "markdown",
   "metadata": {},
   "source": [
    "### Task Creation\n",
    "\n",
    "```c\n",
    "BaseType_t xTaskCreate( TaskFunction_t pvTaskCode,\n",
    "                        const char * const pcName,\n",
    "                        uint16_t usStackDepth,\n",
    "                        void *pvParameters,\n",
    "                        UBaseType_t uxPriority,\n",
    "                        TaskHandle_t *pxCreatedTask );\n",
    "```\n",
    "\n",
    "> **pvTaskCode**: Tasks are C functions that never exit. This function is called Task function described above. The pvTaskCode parameter is a pointer to the function that implements the task\n",
    "\n",
    "> **pcName**: A descriptive name for the task. This is not used by FreeRTOS in any way. It is included purely as a debugging aid. Identifying a task by a human readable name is much simpler than attempting to identify it by its handle.\n",
    "\n",
    "> **usStackDepth**: Each task has its own unique stack that is allocated by the kernel to the task when the task is created. The usStackDepth value tells the kernel how large to make the stack.\n",
    "\n",
    "> **pvParameters**: The value assigned to  vParameters is the value passed into the task. This can be NULL if nothing to be passed to the task function as argument.\n",
    "\n",
    "> **uxPriority**: Defines the priority at which the task will execute. Priorities can be assigned from 0, which is the lowest priority, to (configMAX_PRIORITIES – 1), which is the highest priority. configMAX_PRIORITIES is a user defined constant\n",
    "\n",
    "> **pxCreatedTask**: pxCreatedTask can be used to pass out a handle to the task being created. This handle can then be used to reference the task in API calls that, for example, change the task priority or delete the task."
   ]
  },
  {
   "cell_type": "markdown",
   "metadata": {},
   "source": [
    "### Challenge 1: \n",
    "\n",
    "- Create 2 task functions say 'task1' and 'task2'.\n",
    "    - 'task1' need to print \"I am task 1\"  and 'task2' need to print \"I am task 2\" in forever loop of thier task function.\n",
    "    \n",
    "    \n",
    "- Create 2 tasks in main loop. Both tasks should have same priority, say 0 and stack depth of 512.Run and save print logs of tasks.\n",
    "\n",
    "\n",
    "- Now, change the priority of 'task1' to 1 and 'task2' to 0. And run and save print logs of tasks.\n",
    "\n",
    "- What are your findings ? Compare your findings with section after the solution.\n"
   ]
  },
  {
   "cell_type": "markdown",
   "metadata": {},
   "source": [
    "#### Solution"
   ]
  },
  {
   "cell_type": "code",
   "execution_count": null,
   "metadata": {},
   "outputs": [],
   "source": []
  }
 ],
 "metadata": {
  "kernelspec": {
   "display_name": "Python 2",
   "language": "python",
   "name": "python2"
  },
  "language_info": {
   "codemirror_mode": {
    "name": "ipython",
    "version": 2
   },
   "file_extension": ".py",
   "mimetype": "text/x-python",
   "name": "python",
   "nbconvert_exporter": "python",
   "pygments_lexer": "ipython2",
   "version": "2.7.15+"
  }
 },
 "nbformat": 4,
 "nbformat_minor": 2
}
